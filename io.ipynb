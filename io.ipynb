{
 "cells": [
  {
   "cell_type": "code",
   "execution_count": 2,
   "metadata": {},
   "outputs": [
    {
     "name": "stdout",
     "output_type": "stream",
     "text": [
      "         2692575 function calls (39 primitive calls) in 0.914 seconds\n",
      "\n",
      "   Ordered by: standard name\n",
      "\n",
      "   ncalls  tottime  percall  cumtime  percall filename:lineno(function)\n",
      "        1    0.000    0.000    0.000    0.000 3938727231.py:1(<module>)\n",
      "2692537/1    0.914    0.000    0.914    0.914 3938727231.py:3(fib)\n",
      "        2    0.000    0.000    0.000    0.000 codeop.py:117(__call__)\n",
      "        4    0.000    0.000    0.000    0.000 compilerop.py:180(extra_flags)\n",
      "        2    0.000    0.000    0.000    0.000 contextlib.py:104(__init__)\n",
      "        2    0.000    0.000    0.000    0.000 contextlib.py:132(__enter__)\n",
      "        2    0.000    0.000    0.000    0.000 contextlib.py:141(__exit__)\n",
      "        2    0.000    0.000    0.000    0.000 contextlib.py:284(helper)\n",
      "        2    0.000    0.000    0.000    0.000 interactiveshell.py:1229(user_global_ns)\n",
      "        2    0.000    0.000    0.000    0.000 interactiveshell.py:3424(compare)\n",
      "        2    0.000    0.000    0.914    0.457 interactiveshell.py:3472(run_code)\n",
      "        2    0.000    0.000    0.000    0.000 traitlets.py:654(get)\n",
      "        2    0.000    0.000    0.000    0.000 traitlets.py:692(__get__)\n",
      "        2    0.000    0.000    0.000    0.000 {built-in method builtins.compile}\n",
      "        2    0.000    0.000    0.914    0.457 {built-in method builtins.exec}\n",
      "        4    0.000    0.000    0.000    0.000 {built-in method builtins.getattr}\n",
      "        4    0.000    0.000    0.000    0.000 {built-in method builtins.next}\n",
      "        1    0.000    0.000    0.000    0.000 {method 'disable' of '_lsprof.Profiler' objects}\n",
      "\n",
      "\n"
     ]
    }
   ],
   "source": [
    "import cProfile\n",
    "\n",
    "def fib(n):\n",
    "    if n == 0:\n",
    "        return 0\n",
    "    elif n == 1:\n",
    "        return 1\n",
    "    else:\n",
    "        return fib(n-1) + fib(n-2)\n",
    "\n",
    "profiler = cProfile.Profile()\n",
    "profiler.enable()\n",
    "\n",
    "fib(30)\n",
    "\n",
    "profiler.disable()\n",
    "profiler.print_stats()\n"
   ]
  },
  {
   "cell_type": "code",
   "execution_count": 5,
   "metadata": {},
   "outputs": [
    {
     "name": "stdout",
     "output_type": "stream",
     "text": [
      "         47 function calls in 0.001 seconds\n",
      "\n",
      "   Ordered by: standard name\n",
      "\n",
      "   ncalls  tottime  percall  cumtime  percall filename:lineno(function)\n",
      "        1    0.000    0.000    0.000    0.000 414094086.py:1(<module>)\n",
      "        1    0.000    0.000    0.001    0.001 414094086.py:3(read_file)\n",
      "        1    0.000    0.000    0.000    0.000 <frozen codecs>:260(__init__)\n",
      "        1    0.000    0.000    0.000    0.000 <frozen codecs>:309(__init__)\n",
      "        1    0.000    0.000    0.000    0.000 <frozen codecs>:319(decode)\n",
      "        2    0.000    0.000    0.000    0.000 codeop.py:117(__call__)\n",
      "        4    0.000    0.000    0.000    0.000 compilerop.py:180(extra_flags)\n",
      "        2    0.000    0.000    0.000    0.000 contextlib.py:104(__init__)\n",
      "        2    0.000    0.000    0.000    0.000 contextlib.py:132(__enter__)\n",
      "        2    0.000    0.000    0.000    0.000 contextlib.py:141(__exit__)\n",
      "        2    0.000    0.000    0.000    0.000 contextlib.py:284(helper)\n",
      "        2    0.000    0.000    0.000    0.000 interactiveshell.py:1229(user_global_ns)\n",
      "        1    0.000    0.000    0.001    0.001 interactiveshell.py:275(_modified_open)\n",
      "        2    0.000    0.000    0.000    0.000 interactiveshell.py:3424(compare)\n",
      "        2    0.000    0.000    0.001    0.000 interactiveshell.py:3472(run_code)\n",
      "        2    0.000    0.000    0.000    0.000 traitlets.py:654(get)\n",
      "        2    0.000    0.000    0.000    0.000 traitlets.py:692(__get__)\n",
      "        1    0.000    0.000    0.000    0.000 {built-in method _codecs.utf_8_decode}\n",
      "        2    0.000    0.000    0.000    0.000 {built-in method builtins.compile}\n",
      "        2    0.000    0.000    0.001    0.000 {built-in method builtins.exec}\n",
      "        4    0.000    0.000    0.000    0.000 {built-in method builtins.getattr}\n",
      "        4    0.000    0.000    0.000    0.000 {built-in method builtins.next}\n",
      "        1    0.001    0.001    0.001    0.001 {built-in method io.open}\n",
      "        1    0.000    0.000    0.000    0.000 {method '__exit__' of '_io._IOBase' objects}\n",
      "        1    0.000    0.000    0.000    0.000 {method 'disable' of '_lsprof.Profiler' objects}\n",
      "        1    0.000    0.000    0.000    0.000 {method 'read' of '_io.TextIOWrapper' objects}\n",
      "\n",
      "\n"
     ]
    }
   ],
   "source": [
    "import cProfile\n",
    "\n",
    "def read_file(filename):\n",
    "    with open(filename, 'r') as file:\n",
    "        data = file.read()\n",
    "    return data\n",
    "\n",
    "profiler = cProfile.Profile()\n",
    "profiler.enable()\n",
    "\n",
    "read_file('largefile.txt')  # This should be a large file to make the time taken noticeable\n",
    "\n",
    "profiler.disable()\n",
    "profiler.print_stats()\n"
   ]
  }
 ],
 "metadata": {
  "kernelspec": {
   "display_name": ".venv",
   "language": "python",
   "name": "python3"
  },
  "language_info": {
   "codemirror_mode": {
    "name": "ipython",
    "version": 3
   },
   "file_extension": ".py",
   "mimetype": "text/x-python",
   "name": "python",
   "nbconvert_exporter": "python",
   "pygments_lexer": "ipython3",
   "version": "3.11.1"
  },
  "orig_nbformat": 4
 },
 "nbformat": 4,
 "nbformat_minor": 2
}
